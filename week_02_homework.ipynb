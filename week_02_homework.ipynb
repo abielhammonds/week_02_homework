{
 "cells": [
  {
   "cell_type": "markdown",
   "metadata": {},
   "source": [
    "### Homework Week 02\n",
    "#### Loops, Functions and Classes\n",
    "1. Do this homework **in order**. \n",
    "2. Be sure to have a solid understanding of Functions before working with Classes. "
   ]
  },
  {
   "cell_type": "markdown",
   "metadata": {},
   "source": [
    "1. Iterate through `integers_list` and `print` values that are multiples of 7."
   ]
  },
  {
   "cell_type": "code",
   "execution_count": 22,
   "metadata": {},
   "outputs": [
    {
     "name": "stdout",
     "output_type": "stream",
     "text": [
      "4095\n",
      "5292\n",
      "6748\n",
      "5677\n",
      "4375\n",
      "343\n",
      "2821\n",
      "5621\n",
      "3227\n",
      "5257\n",
      "5264\n",
      "2198\n",
      "4004\n",
      "3990\n",
      "6545\n",
      "2422\n",
      "1477\n",
      "6923\n",
      "728\n",
      "1911\n",
      "5495\n",
      "5929\n",
      "5061\n",
      "2758\n",
      "2261\n",
      "5670\n",
      "301\n",
      "637\n",
      "3500\n",
      "2422\n",
      "1813\n",
      "3689\n",
      "2828\n",
      "49\n",
      "1442\n",
      "4095\n",
      "5334\n",
      "2793\n",
      "3717\n",
      "560\n",
      "5096\n",
      "1022\n",
      "5726\n",
      "5684\n",
      "3451\n",
      "42\n",
      "6328\n",
      "6986\n",
      "6573\n",
      "4942\n",
      "0\n",
      "7\n",
      "14\n",
      "21\n",
      "28\n",
      "35\n",
      "42\n",
      "49\n",
      "56\n",
      "63\n",
      "70\n",
      "77\n",
      "84\n",
      "91\n",
      "98\n",
      "105\n",
      "112\n",
      "119\n",
      "126\n",
      "133\n",
      "140\n",
      "147\n",
      "154\n",
      "161\n",
      "168\n",
      "175\n",
      "182\n",
      "189\n",
      "196\n",
      "203\n",
      "210\n",
      "217\n",
      "224\n",
      "231\n",
      "238\n",
      "245\n",
      "252\n",
      "259\n",
      "266\n",
      "273\n",
      "280\n",
      "287\n",
      "294\n",
      "301\n",
      "308\n",
      "315\n",
      "322\n",
      "329\n",
      "336\n",
      "343\n"
     ]
    }
   ],
   "source": [
    "import random\n",
    "integers_list = [random.randint(0,1000) for i in range(50)] # a list comprehension\n",
    "\n",
    "# your code here\n",
    "#this code prints a list of 50 random numbers between 1 and 1,000, each value is a multiple of 7\n",
    "for i in integers_list :\n",
    "    print(i*7)\n",
    "\n",
    "#this code prints a list of numbers 1 through 50, each value is the number multiplied by 7 (ex: 1*7, 2*7 to 50*7)\n",
    "for i in range(50) :\n",
    "    print(i*7)"
   ]
  },
  {
   "cell_type": "markdown",
   "metadata": {},
   "source": [
    "2. Create `list` of 5 colors as `strings` which are all lowercase. \n",
    "Iterate through the `list` and capitalize each color. \n",
    "You should modify the `list` in place. "
   ]
  },
  {
   "cell_type": "code",
   "execution_count": 9,
   "metadata": {},
   "outputs": [
    {
     "name": "stdout",
     "output_type": "stream",
     "text": [
      "Red\n",
      "Blue\n",
      "Green\n",
      "Purple\n",
      "Yellow\n"
     ]
    }
   ],
   "source": [
    "colors = ('red', 'blue', 'green', 'purple', 'yellow')\n",
    "for color in colors :\n",
    "    print(color.capitalize())"
   ]
  },
  {
   "cell_type": "markdown",
   "metadata": {},
   "source": [
    "3. Loop through the string and eliminate all the asterisks."
   ]
  },
  {
   "cell_type": "code",
   "execution_count": 5,
   "metadata": {},
   "outputs": [
    {
     "name": "stdout",
     "output_type": "stream",
     "text": [
      "My computer has gone crazy and added extra symbols.\n",
      "M\n",
      "y\n",
      " \n",
      "\n",
      "c\n",
      "o\n",
      "m\n",
      "p\n",
      "u\n",
      "\n",
      "t\n",
      "e\n",
      "r\n",
      " \n",
      "h\n",
      "a\n",
      "s\n",
      " \n",
      "g\n",
      "o\n",
      "\n",
      "n\n",
      "e\n",
      " \n",
      "c\n",
      "r\n",
      "a\n",
      "z\n",
      "\n",
      "\n",
      "\n",
      "y\n",
      " \n",
      "a\n",
      "n\n",
      "\n",
      "d\n",
      " \n",
      "a\n",
      "d\n",
      "d\n",
      "\n",
      "e\n",
      "d\n",
      " \n",
      "e\n",
      "x\n",
      "t\n",
      "r\n",
      "a\n",
      " \n",
      "\n",
      "s\n",
      "y\n",
      "m\n",
      "b\n",
      "o\n",
      "l\n",
      "s\n",
      ".\n",
      "\n"
     ]
    }
   ],
   "source": [
    "asterisk = 'My *compu*ter has go*ne craz***y an*d add*ed extra *symbols.*'\n",
    "# your code here\n",
    "#I'm adding this first method because I like how the string looks without the asterisks...but it's not looping.\n",
    "print(asterisk.replace('*',\"\"))\n",
    "\n",
    "#this is looping through the string\n",
    "for d in asterisk :\n",
    "    print(d.replace('*',\"\"))"
   ]
  },
  {
   "cell_type": "code",
   "execution_count": null,
   "metadata": {},
   "outputs": [],
   "source": []
  },
  {
   "cell_type": "markdown",
   "metadata": {},
   "source": [
    "4. Write a `while` loop that increments `counter` until it reaches 7."
   ]
  },
  {
   "cell_type": "code",
   "execution_count": 6,
   "metadata": {},
   "outputs": [
    {
     "name": "stdout",
     "output_type": "stream",
     "text": [
      "1\n",
      "2\n",
      "3\n",
      "4\n",
      "5\n",
      "6\n",
      "7\n"
     ]
    }
   ],
   "source": [
    "counter = 0\n",
    "# your code here\n",
    "while counter < 7 :\n",
    "    counter = counter + 1\n",
    "    print(counter)\n"
   ]
  },
  {
   "cell_type": "markdown",
   "metadata": {},
   "source": [
    "5. Loop over `double_trouble` and eliminate any 'mosquito'."
   ]
  },
  {
   "cell_type": "code",
   "execution_count": 11,
   "metadata": {},
   "outputs": [
    {
     "name": "stdout",
     "output_type": "stream",
     "text": [
      "['cat', 'dog', ['mouse', 'bat'], ['elephant', 'dog', 'whale', 'lion', 32], 'bird', []]\n"
     ]
    }
   ],
   "source": [
    "double_trouble = ['cat', 'dog', ['mouse','mosquito','bat','mosquito'],['elephant','dog','whale','lion',32,'mosquito'],'bird',[],'mosquito']\n",
    "# your code here\n",
    "\n",
    "for index, item in enumerate(double_trouble) :\n",
    "    if item == 'mosquito' :\n",
    "        double_trouble.remove('mosquito')\n",
    "    else:\n",
    "        for second_index, sub_item in enumerate(item) :\n",
    "            if sub_item == 'mosquito' :\n",
    "                item.remove('mosquito')\n",
    "            \n",
    "print(double_trouble)"
   ]
  },
  {
   "cell_type": "markdown",
   "metadata": {},
   "source": [
    "6. Loop through the dictionary of phone numbers and correct the parentheses. "
   ]
  },
  {
   "cell_type": "code",
   "execution_count": 13,
   "metadata": {},
   "outputs": [],
   "source": [
    "phone_numbers = {'Jill':'1-)555(-567-8910',\n",
    "                'Jen':'1-)555(-567-8910',\n",
    "                'Jan':'1-)555(-567-8910',\n",
    "                'Jane':'1-)555(-567-8910',\n",
    "                'Jerri':'1-)555(-567-8910'}"
   ]
  },
  {
   "cell_type": "code",
   "execution_count": 23,
   "metadata": {},
   "outputs": [
    {
     "name": "stdout",
     "output_type": "stream",
     "text": [
      "Jill 1-)555(-567-8910\n",
      "Jen 1-)555(-567-89101-)555(-567-89101-)555(-567-89101-)555(-567-89101-)555(-567-89101-)555(-567-89101-)555(-567-8910\n",
      "Jan 1-)555(-567-89101-)555(-567-89101-)555(-567-89101-)555(-567-89101-)555(-567-89101-)555(-567-89101-)555(-567-89101-)555(-567-89101-)555(-567-89101-)555(-567-89101-)555(-567-89101-)555(-567-89101-)555(-567-89101-)555(-567-89101-)555(-567-89101-)555(-567-89101-)555(-567-89101-)555(-567-89101-)555(-567-89101-)555(-567-89101-)555(-567-89101-)555(-567-89101-)555(-567-89101-)555(-567-89101-)555(-567-89101-)555(-567-89101-)555(-567-89101-)555(-567-8910\n",
      "Jane 1-)555(-567-89101-)555(-567-89101-)555(-567-89101-)555(-567-89101-)555(-567-89101-)555(-567-89101-)555(-567-89101-)555(-567-89101-)555(-567-89101-)555(-567-89101-)555(-567-89101-)555(-567-89101-)555(-567-89101-)555(-567-89101-)555(-567-89101-)555(-567-89101-)555(-567-89101-)555(-567-89101-)555(-567-89101-)555(-567-89101-)555(-567-89101-)555(-567-89101-)555(-567-89101-)555(-567-89101-)555(-567-89101-)555(-567-89101-)555(-567-89101-)555(-567-89101-)555(-567-89101-)555(-567-89101-)555(-567-89101-)555(-567-89101-)555(-567-89101-)555(-567-89101-)555(-567-89101-)555(-567-89101-)555(-567-89101-)555(-567-89101-)555(-567-89101-)555(-567-89101-)555(-567-89101-)555(-567-89101-)555(-567-89101-)555(-567-89101-)555(-567-89101-)555(-567-89101-)555(-567-89101-)555(-567-89101-)555(-567-89101-)555(-567-89101-)555(-567-89101-)555(-567-89101-)555(-567-89101-)555(-567-89101-)555(-567-89101-)555(-567-89101-)555(-567-89101-)555(-567-89101-)555(-567-89101-)555(-567-89101-)555(-567-89101-)555(-567-89101-)555(-567-89101-)555(-567-89101-)555(-567-89101-)555(-567-89101-)555(-567-89101-)555(-567-89101-)555(-567-89101-)555(-567-89101-)555(-567-89101-)555(-567-89101-)555(-567-89101-)555(-567-89101-)555(-567-89101-)555(-567-89101-)555(-567-89101-)555(-567-89101-)555(-567-89101-)555(-567-89101-)555(-567-89101-)555(-567-89101-)555(-567-89101-)555(-567-8910\n",
      "Jerri 1-)555(-567-89101-)555(-567-89101-)555(-567-89101-)555(-567-89101-)555(-567-89101-)555(-567-89101-)555(-567-89101-)555(-567-89101-)555(-567-89101-)555(-567-89101-)555(-567-89101-)555(-567-89101-)555(-567-89101-)555(-567-89101-)555(-567-89101-)555(-567-89101-)555(-567-89101-)555(-567-89101-)555(-567-89101-)555(-567-89101-)555(-567-89101-)555(-567-89101-)555(-567-89101-)555(-567-89101-)555(-567-89101-)555(-567-89101-)555(-567-89101-)555(-567-89101-)555(-567-89101-)555(-567-89101-)555(-567-89101-)555(-567-89101-)555(-567-89101-)555(-567-89101-)555(-567-89101-)555(-567-89101-)555(-567-89101-)555(-567-89101-)555(-567-89101-)555(-567-89101-)555(-567-89101-)555(-567-89101-)555(-567-89101-)555(-567-89101-)555(-567-89101-)555(-567-89101-)555(-567-89101-)555(-567-89101-)555(-567-89101-)555(-567-89101-)555(-567-89101-)555(-567-89101-)555(-567-89101-)555(-567-89101-)555(-567-89101-)555(-567-89101-)555(-567-89101-)555(-567-89101-)555(-567-89101-)555(-567-89101-)555(-567-89101-)555(-567-89101-)555(-567-89101-)555(-567-89101-)555(-567-89101-)555(-567-89101-)555(-567-89101-)555(-567-89101-)555(-567-89101-)555(-567-89101-)555(-567-89101-)555(-567-89101-)555(-567-89101-)555(-567-89101-)555(-567-89101-)555(-567-89101-)555(-567-89101-)555(-567-89101-)555(-567-89101-)555(-567-89101-)555(-567-89101-)555(-567-89101-)555(-567-89101-)555(-567-89101-)555(-567-89101-)555(-567-89101-)555(-567-89101-)555(-567-89101-)555(-567-89101-)555(-567-89101-)555(-567-89101-)555(-567-89101-)555(-567-89101-)555(-567-89101-)555(-567-89101-)555(-567-89101-)555(-567-89101-)555(-567-89101-)555(-567-89101-)555(-567-89101-)555(-567-89101-)555(-567-89101-)555(-567-89101-)555(-567-89101-)555(-567-89101-)555(-567-89101-)555(-567-89101-)555(-567-89101-)555(-567-89101-)555(-567-89101-)555(-567-89101-)555(-567-89101-)555(-567-89101-)555(-567-89101-)555(-567-89101-)555(-567-89101-)555(-567-89101-)555(-567-89101-)555(-567-89101-)555(-567-89101-)555(-567-89101-)555(-567-89101-)555(-567-89101-)555(-567-89101-)555(-567-89101-)555(-567-89101-)555(-567-89101-)555(-567-89101-)555(-567-89101-)555(-567-89101-)555(-567-89101-)555(-567-89101-)555(-567-89101-)555(-567-89101-)555(-567-89101-)555(-567-89101-)555(-567-89101-)555(-567-89101-)555(-567-89101-)555(-567-89101-)555(-567-89101-)555(-567-89101-)555(-567-89101-)555(-567-89101-)555(-567-89101-)555(-567-89101-)555(-567-89101-)555(-567-89101-)555(-567-89101-)555(-567-89101-)555(-567-89101-)555(-567-89101-)555(-567-89101-)555(-567-89101-)555(-567-89101-)555(-567-89101-)555(-567-89101-)555(-567-89101-)555(-567-89101-)555(-567-89101-)555(-567-89101-)555(-567-89101-)555(-567-89101-)555(-567-89101-)555(-567-89101-)555(-567-89101-)555(-567-89101-)555(-567-89101-)555(-567-89101-)555(-567-89101-)555(-567-89101-)555(-567-89101-)555(-567-89101-)555(-567-89101-)555(-567-89101-)555(-567-89101-)555(-567-89101-)555(-567-89101-)555(-567-89101-)555(-567-89101-)555(-567-89101-)555(-567-89101-)555(-567-89101-)555(-567-89101-)555(-567-89101-)555(-567-89101-)555(-567-89101-)555(-567-89101-)555(-567-89101-)555(-567-89101-)555(-567-89101-)555(-567-89101-)555(-567-89101-)555(-567-89101-)555(-567-89101-)555(-567-89101-)555(-567-89101-)555(-567-89101-)555(-567-89101-)555(-567-89101-)555(-567-89101-)555(-567-89101-)555(-567-89101-)555(-567-89101-)555(-567-89101-)555(-567-89101-)555(-567-89101-)555(-567-89101-)555(-567-89101-)555(-567-8910\n"
     ]
    }
   ],
   "source": [
    "parenthesis = '(', ')'\n",
    "no_parenthesis = \"\"\n",
    "\n",
    "for name, number in phone_numbers.items():\n",
    "    if number not in parenthesis :\n",
    "        no_parenthesis = no_parenthesis + number\n",
    "        phone_numbers[name] = no_parenthesis\n",
    "        \n",
    "    print(name, phone_numbers[name])\n",
    "\n",
    "#Well, I made an even bigger mess than before I reached out for help!  see below for a description of where I'm stuck"
   ]
  },
  {
   "cell_type": "code",
   "execution_count": 19,
   "metadata": {},
   "outputs": [
    {
     "name": "stdout",
     "output_type": "stream",
     "text": [
      "1-555-567-8910\n"
     ]
    }
   ],
   "source": [
    "#If I were working with numbers only, and wanted to remove parenthesis, it would look like this\n",
    "number = '1-)555(-567-8910'\n",
    "parenthesis = '(', ')'\n",
    "no_parenthesis = \"\"\n",
    "for char in number:\n",
    "    if char not in parenthesis:\n",
    "        no_parenthesis = no_parenthesis + char\n",
    "\n",
    "print(no_parenthesis)\n",
    "\n",
    "#the problem I'm having with the dictionary is that I'm not sure how to embed this within the loop.  I don't really understand how to make the 'set new value' assignment."
   ]
  },
  {
   "cell_type": "markdown",
   "metadata": {},
   "source": [
    "7. Create a function that takes in two numbers.\n",
    "\n",
    "If the numbers are both even add them and `return` the result.\n",
    "\n",
    "If the numbers are odd, subtract the second number from the first and `return` the result.\n",
    "\n",
    "(Assume you'll always get integers)"
   ]
  },
  {
   "cell_type": "code",
   "execution_count": 46,
   "metadata": {},
   "outputs": [
    {
     "data": {
      "text/plain": [
       "30"
      ]
     },
     "execution_count": 46,
     "metadata": {},
     "output_type": "execute_result"
    }
   ],
   "source": [
    "def number_math(num_1,num_2) :\n",
    "    if num_1 % 2 == 0 and num_2 % 2 == 0 :\n",
    "        return(num_1 + num_2)\n",
    "\n",
    "    elif num_1 % 2 != 0 and num_2 % 2 != 0 :\n",
    "        return(num_2 - num_1)\n",
    "\n",
    "    else:\n",
    "        return \"Does not fit function\"\n",
    "    \n",
    "number_math(14,16)"
   ]
  },
  {
   "cell_type": "code",
   "execution_count": 47,
   "metadata": {},
   "outputs": [
    {
     "data": {
      "text/plain": [
       "'Does not fit function'"
      ]
     },
     "execution_count": 47,
     "metadata": {},
     "output_type": "execute_result"
    }
   ],
   "source": [
    "number_math(17,4)"
   ]
  },
  {
   "cell_type": "code",
   "execution_count": 48,
   "metadata": {},
   "outputs": [
    {
     "data": {
      "text/plain": [
       "-4"
      ]
     },
     "execution_count": 48,
     "metadata": {},
     "output_type": "execute_result"
    }
   ],
   "source": [
    "number_math(21,17)"
   ]
  },
  {
   "cell_type": "markdown",
   "metadata": {},
   "source": [
    "8. Create a function that takes in a `string` and removes all non-alphanumeric characters."
   ]
  },
  {
   "cell_type": "code",
   "execution_count": 66,
   "metadata": {},
   "outputs": [
    {
     "data": {
      "text/plain": [
       "'Alphanumeric'"
      ]
     },
     "execution_count": 66,
     "metadata": {},
     "output_type": "execute_result"
    }
   ],
   "source": [
    "import string\n",
    "\n",
    "def edit_my_string(text) :\n",
    "    if text.isalnum() :\n",
    "        return(text)\n",
    "    else:\n",
    "        return(text.translate(str.maketrans('','',string.punctuation)))\n",
    "\n",
    "edit_my_string('Alph!!anumeric')\n"
   ]
  },
  {
   "cell_type": "code",
   "execution_count": 68,
   "metadata": {},
   "outputs": [
    {
     "data": {
      "text/plain": [
       "'83'"
      ]
     },
     "execution_count": 68,
     "metadata": {},
     "output_type": "execute_result"
    }
   ],
   "source": [
    "edit_my_string('%%%83')"
   ]
  },
  {
   "cell_type": "code",
   "execution_count": 70,
   "metadata": {},
   "outputs": [
    {
     "data": {
      "text/plain": [
       "'all numbers and letters'"
      ]
     },
     "execution_count": 70,
     "metadata": {},
     "output_type": "execute_result"
    }
   ],
   "source": [
    "edit_my_string('all numbers and letters')"
   ]
  },
  {
   "cell_type": "markdown",
   "metadata": {},
   "source": [
    "9. Create a function to convert Celsius to Farenheight and print the result. \n",
    "\n",
    "Bonus(Optional): Include the degree symbol in the output."
   ]
  },
  {
   "cell_type": "code",
   "execution_count": 81,
   "metadata": {},
   "outputs": [
    {
     "data": {
      "text/plain": [
       "111.2"
      ]
     },
     "execution_count": 81,
     "metadata": {},
     "output_type": "execute_result"
    }
   ],
   "source": [
    "def convert_temp(celsius) :\n",
    "    return celsius * 1.8 + 32\n",
    "        \n",
    "convert_temp(44)"
   ]
  },
  {
   "cell_type": "markdown",
   "metadata": {},
   "source": [
    "10. Create a function that prints the fibonacci sequence from 0 to 25. "
   ]
  },
  {
   "cell_type": "code",
   "execution_count": 8,
   "metadata": {},
   "outputs": [],
   "source": [
    "def fibonacci_seq(n) :\n",
    "    while n < 26:\n",
    "        if (n == 0):\n",
    "            return 0\n",
    "        elif (n == 1):\n",
    "            return 1\n",
    "        else:\n",
    "             n += 1\n",
    "       \n",
    "        for n in range(0,100):\n",
    "            fibonacci_seq(n)\n",
    "        \n",
    "#interesting...I looked this solution up online and it used complicated terms I'm not familiar with yet, so I insisted on making a while loop work.\n",
    "#I'm not sure how to get the while loop to stop with 25 (n < 26)\n",
    "#I removed the recursion loop I had created....but now I'm not getting any values...  Hmm..."
   ]
  },
  {
   "cell_type": "markdown",
   "metadata": {},
   "source": [
    "11. Create two functions. One function that accepts args `a` and `b` and returns `a + b`. \n",
    "\n",
    "Create a second function that accepts the first function as the 3rd argument as well as a and b.\n"
   ]
  },
  {
   "cell_type": "code",
   "execution_count": 8,
   "metadata": {},
   "outputs": [
    {
     "data": {
      "text/plain": [
       "6"
      ]
     },
     "execution_count": 8,
     "metadata": {},
     "output_type": "execute_result"
    }
   ],
   "source": [
    "# you do the first function\n",
    "def my_function(a,b):\n",
    "    return a + b\n",
    "\n",
    "# second function\n",
    "# Here's some starter code to avoid confusion.\n",
    "# Functions can be passed around like any other object. \n",
    "def second_function(a,b,my_function):\n",
    "    return a + b + my_function\n",
    "    \n",
    "second_function(1,2,my_function(1,2))\n",
    "#This works, but I don't think I should be having to plug a and b into 'my_function' when I execute it as part of second_function...."
   ]
  },
  {
   "cell_type": "markdown",
   "metadata": {},
   "source": [
    "12. Create a function that prints prime number from 0 to 100. "
   ]
  },
  {
   "cell_type": "code",
   "execution_count": 33,
   "metadata": {},
   "outputs": [
    {
     "name": "stdout",
     "output_type": "stream",
     "text": [
      "1\n",
      "7\n",
      "11\n",
      "13\n",
      "17\n",
      "19\n",
      "23\n",
      "29\n",
      "31\n",
      "37\n",
      "41\n",
      "43\n",
      "47\n",
      "49\n",
      "53\n",
      "59\n",
      "61\n",
      "67\n",
      "71\n",
      "73\n",
      "77\n",
      "79\n",
      "83\n",
      "89\n",
      "91\n",
      "97\n"
     ]
    }
   ],
   "source": [
    "def prime_x(y):\n",
    "#Then, I watched the functions optional video on YouTube and found a solution I like better!\n",
    "#but, this function only works if I write all the 'and' statements on the same line....why is that? \n",
    "    if y % 2 != 0 and y % 3 != 0 and y % 4 != 0 and y % 5:\n",
    "        print(y)\n",
    "\n",
    "for y in range(0,100):\n",
    "    prime_x(y)"
   ]
  },
  {
   "cell_type": "markdown",
   "metadata": {},
   "source": [
    "13. Now's your chance to show off. Create a function that does something that has not already been done in the homework. Get creative. "
   ]
  },
  {
   "cell_type": "code",
   "execution_count": null,
   "metadata": {},
   "outputs": [],
   "source": [
    "#Ummmmmmmmm (I got nothin....)"
   ]
  },
  {
   "cell_type": "markdown",
   "metadata": {},
   "source": [
    "14. Add an attribute called `age` to the `__init__` method of the `Person` class.\n",
    "\n",
    "Create an instance of `Person()` and print the `age`."
   ]
  },
  {
   "cell_type": "code",
   "execution_count": 12,
   "metadata": {},
   "outputs": [
    {
     "name": "stdout",
     "output_type": "stream",
     "text": [
      "29\n"
     ]
    }
   ],
   "source": [
    "class Person():\n",
    "    \n",
    "    def __init__(self, name, occupation, country, age):\n",
    "        self.name = name\n",
    "        self.occupation = occupation\n",
    "        self.country = country\n",
    "        # you attribute goes here\n",
    "        self.age = age\n",
    "\n",
    "person_1 = Person('Joy', 'Barber', 'US', 29)\n",
    "\n",
    "print(person_1.age)"
   ]
  },
  {
   "cell_type": "markdown",
   "metadata": {},
   "source": [
    "15. Creat an instance of the class `Candy`. \n",
    "\n",
    "Add an attribute called `cost` on your instance. (Don't modify the class starter code.)\n",
    "\n",
    "Print the instance's `cost` attribute.\n",
    "\n",
    "Bonus(optional): Add a function of your choice to the instance. "
   ]
  },
  {
   "cell_type": "code",
   "execution_count": 2,
   "metadata": {},
   "outputs": [],
   "source": [
    "class Candy():\n",
    "    \n",
    "    def __init__(self, kind='chocolate', brand= 'Nestle', caramel = False):\n",
    "        self.type = kind\n",
    "        self.brand = brand\n",
    "        self.caramel = caramel\n",
    "        "
   ]
  },
  {
   "cell_type": "code",
   "execution_count": 8,
   "metadata": {},
   "outputs": [
    {
     "name": "stdout",
     "output_type": "stream",
     "text": [
      "14.0\n"
     ]
    }
   ],
   "source": [
    "my_candy = Candy()\n",
    "my_candy.cost = 14.00\n",
    "print(my_candy.cost)\n"
   ]
  },
  {
   "cell_type": "markdown",
   "metadata": {},
   "source": [
    "16. Add an instance method to our class `Greet` that prints a greeting including `greeting` and the `name`. \n",
    "\n",
    "Example:\n",
    "\n",
    "`jen = Greet()`\n",
    "\n",
    "`jen.greet_method()` returns `\"Hello Jennifer\"`\n"
   ]
  },
  {
   "cell_type": "code",
   "execution_count": 28,
   "metadata": {},
   "outputs": [
    {
     "name": "stdout",
     "output_type": "stream",
     "text": [
      "Hello Alicia\n"
     ]
    }
   ],
   "source": [
    "class Greet():\n",
    "    \n",
    "    def __init__(self, name='Jennifer', language='english', greeting=\"Hello\"):\n",
    "        \n",
    "        self.language = language\n",
    "        self.greeting = greeting\n",
    "        self.name = name\n",
    "        \n",
    "    # Your method here\n",
    "    def give_greeting(self):\n",
    "        return (self.greeting + ' ' + self.name)\n",
    "\n",
    "alicia = Greet(name='Alicia')\n",
    "print(alicia.give_greeting())"
   ]
  },
  {
   "cell_type": "markdown",
   "metadata": {},
   "source": [
    "17. Add a line to the follwing code that will increment `employee_count` by 1 for **all** instances of `Employee`.\n",
    "\n",
    "The code should run each time an new instance of`Employee` is created. \n",
    "\n",
    "Hint: You don't need methods. Just a single expression will work. And it does NOT inlcude the word `self`. "
   ]
  },
  {
   "cell_type": "code",
   "execution_count": 30,
   "metadata": {},
   "outputs": [
    {
     "name": "stdout",
     "output_type": "stream",
     "text": [
      "1\n",
      "2\n"
     ]
    }
   ],
   "source": [
    "class Employee():\n",
    "    \n",
    "    # class variables. Applies to all instances of this class during creation.\n",
    "    yearly_bonus = 1.01 # not used anywhere in this example\n",
    "    \n",
    "    employee_count = 0 # This variable will change for all instances of the class.\n",
    "    \n",
    "       \n",
    "    def __init__(self,name, age, base_pay): # creates an instance of our object with unique attributes\n",
    "        \n",
    "        self.name = name\n",
    "        self.age = age\n",
    "        self.base_pay = base_pay\n",
    "        \n",
    "        \n",
    "        # your code here inside the __init__ method. \n",
    "        Employee.employee_count += 1\n",
    "        \n",
    "emp1 = Employee('Matt', 32,40000)\n",
    "print(emp1.employee_count) # should be 1 if the __init__ method is working properly. \n",
    "\n",
    "emp2 = emp1 = Employee('Joe', 22,50000) # should be 2 if the __init__ method is working properly. \n",
    "print(emp2.employee_count)\n"
   ]
  },
  {
   "cell_type": "markdown",
   "metadata": {},
   "source": [
    "18 . Add a `static` method of your choice to the class below. \n",
    "\n",
    "Instaiate an object and call your method. \n",
    "\n",
    "What is a static method anyway? \n"
   ]
  },
  {
   "cell_type": "code",
   "execution_count": 38,
   "metadata": {},
   "outputs": [
    {
     "name": "stdout",
     "output_type": "stream",
     "text": [
      "Meryl Streep: This is my line...\n"
     ]
    },
    {
     "ename": "NameError",
     "evalue": "name 'birth_year' is not defined",
     "output_type": "error",
     "traceback": [
      "\u001b[1;31m---------------------------------------------------------------------------\u001b[0m",
      "\u001b[1;31mNameError\u001b[0m                                 Traceback (most recent call last)",
      "\u001b[1;32m<ipython-input-38-9626b323a3aa>\u001b[0m in \u001b[0;36m<module>\u001b[1;34m\u001b[0m\n\u001b[0;32m     15\u001b[0m \u001b[0mmeryl\u001b[0m \u001b[1;33m=\u001b[0m \u001b[0mactress\u001b[0m\u001b[1;33m(\u001b[0m\u001b[1;33m)\u001b[0m\u001b[1;33m\u001b[0m\u001b[1;33m\u001b[0m\u001b[0m\n\u001b[0;32m     16\u001b[0m \u001b[0mmeryl\u001b[0m\u001b[1;33m.\u001b[0m\u001b[0mact\u001b[0m\u001b[1;33m(\u001b[0m\u001b[1;34m'This is my line...'\u001b[0m\u001b[1;33m)\u001b[0m\u001b[1;33m\u001b[0m\u001b[1;33m\u001b[0m\u001b[0m\n\u001b[1;32m---> 17\u001b[1;33m \u001b[0mmeryl\u001b[0m\u001b[1;33m.\u001b[0m\u001b[0mage\u001b[0m\u001b[1;33m(\u001b[0m\u001b[1;36m1962\u001b[0m\u001b[1;33m)\u001b[0m\u001b[1;33m\u001b[0m\u001b[1;33m\u001b[0m\u001b[0m\n\u001b[0m",
      "\u001b[1;32m<ipython-input-38-9626b323a3aa>\u001b[0m in \u001b[0;36mage\u001b[1;34m(years)\u001b[0m\n\u001b[0;32m      9\u001b[0m     \u001b[1;33m@\u001b[0m\u001b[0mstaticmethod\u001b[0m\u001b[1;33m\u001b[0m\u001b[1;33m\u001b[0m\u001b[0m\n\u001b[0;32m     10\u001b[0m     \u001b[1;32mdef\u001b[0m \u001b[0mage\u001b[0m\u001b[1;33m(\u001b[0m\u001b[0myears\u001b[0m\u001b[1;33m)\u001b[0m\u001b[1;33m:\u001b[0m\u001b[1;33m\u001b[0m\u001b[1;33m\u001b[0m\u001b[0m\n\u001b[1;32m---> 11\u001b[1;33m         \u001b[0mname\u001b[0m\u001b[1;33m.\u001b[0m\u001b[0mage\u001b[0m \u001b[1;33m=\u001b[0m \u001b[1;36m2020\u001b[0m \u001b[1;33m-\u001b[0m \u001b[0mbirth_year\u001b[0m\u001b[1;33m\u001b[0m\u001b[1;33m\u001b[0m\u001b[0m\n\u001b[0m\u001b[0;32m     12\u001b[0m \u001b[1;33m\u001b[0m\u001b[0m\n\u001b[0;32m     13\u001b[0m     \u001b[1;31m#I need to spend some time thinking about what method I want to create!  I'm out of creativity...\u001b[0m\u001b[1;33m\u001b[0m\u001b[1;33m\u001b[0m\u001b[1;33m\u001b[0m\u001b[0m\n",
      "\u001b[1;31mNameError\u001b[0m: name 'birth_year' is not defined"
     ]
    }
   ],
   "source": [
    "class actress():\n",
    "    def __init__(self, name = 'Meryl Streep'):\n",
    "        self.name = name\n",
    "        \n",
    "    def act(self, line):\n",
    "        print(f'{self.name}: {line}')\n",
    "        \n",
    "    # your static method goes here.\n",
    "    @staticmethod\n",
    "    def age(years):\n",
    "        name.age = 2020 - birth_year\n",
    "        \n",
    "\n",
    "    \n",
    "meryl = actress()\n",
    "meryl.act('This is my line...')\n",
    "meryl.age(1962)\n",
    "\n",
    "    #Oops - I'll work on this more, if time allows before class."
   ]
  },
  {
   "cell_type": "code",
   "execution_count": null,
   "metadata": {},
   "outputs": [],
   "source": []
  },
  {
   "cell_type": "markdown",
   "metadata": {},
   "source": [
    "19. Create a `class` called Car that accepts 3 attributes (make, model and year). \n",
    "\n",
    "In the `__init__` method give your instance those three attributes. \n",
    "\n",
    "Instantiate (create) an object that is your dream car. \n",
    "\n",
    "Print the make of your dream car using the object attributes. \n",
    "\n",
    "Then call the dir() method on your new object. (See your attrs are now included!)"
   ]
  },
  {
   "cell_type": "code",
   "execution_count": 38,
   "metadata": {},
   "outputs": [
    {
     "name": "stdout",
     "output_type": "stream",
     "text": [
      "Hyaundai\n"
     ]
    }
   ],
   "source": [
    "class Car():\n",
    "    def __init__(self, make, model, year):\n",
    "        self.make = make\n",
    "        self.model = model\n",
    "        self.year = year\n",
    "        \n",
    "my_dream_car = Car('Hyaundai', 'Tuscon', 2018)\n",
    "print(my_dream_car.make)"
   ]
  },
  {
   "cell_type": "markdown",
   "metadata": {},
   "source": [
    "20. Create a class called `Dice` that accepts a single argument called `number_of_dice`. \n",
    "\n",
    "Create an instance method called `roll`. \n",
    "\n",
    "`roll` should randomly pick a number for each die when called and print the results as a list. \n",
    "\n",
    "Create an instance of `Dice`. Then call `roll()` on your instance.\n",
    "\n",
    "Hint: Inside your class create an empty list called `dice`."
   ]
  },
  {
   "cell_type": "code",
   "execution_count": 40,
   "metadata": {},
   "outputs": [
    {
     "name": "stdout",
     "output_type": "stream",
     "text": [
      "5\n"
     ]
    }
   ],
   "source": [
    "# Helpful starter code\n",
    "from random import randrange\n",
    "\n",
    "print(randrange(1,7)) # randomly generates a number between 1 and 6"
   ]
  },
  {
   "cell_type": "code",
   "execution_count": 54,
   "metadata": {},
   "outputs": [
    {
     "name": "stdout",
     "output_type": "stream",
     "text": [
      "2\n"
     ]
    }
   ],
   "source": [
    "class Dice():\n",
    "    def __init__(self, number_of_dice):\n",
    "        self.number_of_dice = number_of_dice\n",
    "        \n",
    "    def roll(self, number):\n",
    "        print(randrange(1,7))\n",
    "        \n",
    "    dice = []\n",
    "    \n",
    "first_try = Dice(4)\n",
    "first_try.roll(2)"
   ]
  },
  {
   "cell_type": "markdown",
   "metadata": {},
   "source": [
    "Bonus(optional):\n",
    "\n",
    "0. Create a class of your choice.\n",
    "1. Give it instance variables and class variables. \n",
    "2. Give it a classmethod. \n",
    "3. Give it a regular method (instance method).\n",
    "4. Give it a static method. \n",
    "\n",
    "Show how each works by printing an example. "
   ]
  },
  {
   "cell_type": "code",
   "execution_count": null,
   "metadata": {},
   "outputs": [],
   "source": []
  }
 ],
 "metadata": {
  "kernelspec": {
   "display_name": "Python 3",
   "language": "python",
   "name": "python3"
  },
  "language_info": {
   "codemirror_mode": {
    "name": "ipython",
    "version": 3
   },
   "file_extension": ".py",
   "mimetype": "text/x-python",
   "name": "python",
   "nbconvert_exporter": "python",
   "pygments_lexer": "ipython3",
   "version": "3.7.8"
  }
 },
 "nbformat": 4,
 "nbformat_minor": 4
}
